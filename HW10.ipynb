{
  "nbformat": 4,
  "nbformat_minor": 0,
  "metadata": {
    "colab": {
      "provenance": []
    },
    "kernelspec": {
      "name": "python3",
      "display_name": "Python 3"
    },
    "language_info": {
      "name": "python"
    }
  },
  "cells": [
    {
      "cell_type": "markdown",
      "source": [
        "#  Домашнее задание 10 к курсу Pytorch"
      ],
      "metadata": {
        "id": "UhDrrD1caMGW"
      }
    },
    {
      "cell_type": "markdown",
      "source": [
        "Задание по итогам курса:\n",
        "(упрощенное/для тех, у кого нет вебкамеры)\n",
        "\n",
        "Нужно написать приложение, которое будет получать на вход изображение.\n",
        "В процессе определять, что перед камерой находится человек, задетектировав его лицо на кадре.\n",
        "На изображении человек показывает жесты руками, а алгоритм должен считать их и классифицировать.\n",
        "(более сложное)\n",
        "\n",
        "Нужно написать приложение, которое будет считывать и выводить кадры с веб-камеры.\n",
        "В процессе считывания определять что перед камерой находится человек, задетектировав его лицо на кадре.\n",
        "Человек показывает жесты руками, а алгоритм должен считать их и классифицировать.\n",
        "Для распознавания жестов, вам надо будет скачать датасет https://www.kaggle.com/gti-upm/leapgestrecog, разработать модель для обучения и обучить эту модель.\n",
        "Как работать с веб-камерой на google colab https://stackoverflow.com/questions/54389727/opening-web-camera-in-google-colab\n",
        "У кого нет возможности работать через каггл (нет верификации), то можете данные взять по ссылке: https://disk.yandex.ru/d/R2PGlaXDf6_HzQ\n",
        "\n",
        "Данная промежуточная аттестация оценивается по системе \"зачет\" / \"не зачет\"\n",
        "Зачет\" ставится, если слушатель успешно выполнил задание 1 или 2 задания\n",
        "\"Незачет\"\" ставится, если слушатель не выплнил 0 заданий\n",
        "\n",
        "Критерии оценивания:\n",
        "Слушатель написал приложение, которое будет получать на вход изображение\n",
        "Слушатель написать приложение, которое будет считывать и выводить кадры с веб-камеры"
      ],
      "metadata": {
        "id": "famoZttwahKf"
      }
    },
    {
      "cell_type": "code",
      "execution_count": 1,
      "metadata": {
        "id": "RV7J0gEKXvmC"
      },
      "outputs": [],
      "source": [
        "# захват фото с камеры\n",
        "from IPython.display import display, Javascript\n",
        "from google.colab.output import eval_js\n",
        "from base64 import b64decode\n",
        "\n",
        "def take_photo(filename='photo.jpg', quality=0.8):\n",
        "  js = Javascript('''\n",
        "    async function takePhoto(quality) {\n",
        "      const div = document.createElement('div');\n",
        "      const capture = document.createElement('button');\n",
        "      capture.textContent = 'Capture';\n",
        "      div.appendChild(capture);\n",
        "\n",
        "      const video = document.createElement('video');\n",
        "      video.style.display = 'block';\n",
        "      const stream = await navigator.mediaDevices.getUserMedia({video: true});\n",
        "\n",
        "      document.body.appendChild(div);\n",
        "      div.appendChild(video);\n",
        "      video.srcObject = stream;\n",
        "      await video.play();\n",
        "\n",
        "      // Resize the output to fit the video element.\n",
        "      google.colab.output.setIframeHeight(document.documentElement.scrollHeight, true);\n",
        "\n",
        "      // Wait for Capture to be clicked.\n",
        "      await new Promise((resolve) => capture.onclick = resolve);\n",
        "\n",
        "      const canvas = document.createElement('canvas');\n",
        "      canvas.width = video.videoWidth;\n",
        "      canvas.height = video.videoHeight;\n",
        "      canvas.getContext('2d').drawImage(video, 0, 0);\n",
        "      stream.getVideoTracks()[0].stop();\n",
        "      div.remove();\n",
        "      return canvas.toDataURL('image/jpeg', quality);\n",
        "    }\n",
        "    ''')\n",
        "  display(js)\n",
        "  data = eval_js('takePhoto({})'.format(quality))\n",
        "  binary = b64decode(data.split(',')[1])\n",
        "  with open(filename, 'wb') as f:\n",
        "    f.write(binary)\n",
        "  return filename"
      ]
    },
    {
      "cell_type": "code",
      "source": [
        " # сохранение фото\n",
        " from IPython.display import Image\n",
        "try:\n",
        "  filename = take_photo()\n",
        "  print('Saved to {}'.format(filename))\n",
        "\n",
        "  # Show the image which was just taken.\n",
        "  display(Image(filename))\n",
        "except Exception as err:\n",
        "  # Errors will be thrown if the user does not have a webcam or if they do not\n",
        "  # grant the page permission to access it.\n",
        "  print(str(err))"
      ],
      "metadata": {
        "colab": {
          "base_uri": "https://localhost:8080/",
          "height": 514
        },
        "id": "0kuW04BbYxMf",
        "outputId": "81e99bb1-e2e5-40e2-e229-16fa7a001a01"
      },
      "execution_count": 3,
      "outputs": [
        {
          "output_type": "display_data",
          "data": {
            "text/plain": [
              "<IPython.core.display.Javascript object>"
            ],
            "application/javascript": [
              "\n",
              "    async function takePhoto(quality) {\n",
              "      const div = document.createElement('div');\n",
              "      const capture = document.createElement('button');\n",
              "      capture.textContent = 'Capture';\n",
              "      div.appendChild(capture);\n",
              "\n",
              "      const video = document.createElement('video');\n",
              "      video.style.display = 'block';\n",
              "      const stream = await navigator.mediaDevices.getUserMedia({video: true});\n",
              "\n",
              "      document.body.appendChild(div);\n",
              "      div.appendChild(video);\n",
              "      video.srcObject = stream;\n",
              "      await video.play();\n",
              "\n",
              "      // Resize the output to fit the video element.\n",
              "      google.colab.output.setIframeHeight(document.documentElement.scrollHeight, true);\n",
              "\n",
              "      // Wait for Capture to be clicked.\n",
              "      await new Promise((resolve) => capture.onclick = resolve);\n",
              "\n",
              "      const canvas = document.createElement('canvas');\n",
              "      canvas.width = video.videoWidth;\n",
              "      canvas.height = video.videoHeight;\n",
              "      canvas.getContext('2d').drawImage(video, 0, 0);\n",
              "      stream.getVideoTracks()[0].stop();\n",
              "      div.remove();\n",
              "      return canvas.toDataURL('image/jpeg', quality);\n",
              "    }\n",
              "    "
            ]
          },
          "metadata": {}
        },
        {
          "output_type": "stream",
          "name": "stdout",
          "text": [
            "Saved to photo.jpg\n"
          ]
        },
        {
          "output_type": "display_data",
          "data": {
            "image/jpeg": "[encoded data removed]",
            "text/plain": [
              "<IPython.core.display.Image object>"
            ]
          },
          "metadata": {}
        }
      ]
    },
    {
      "cell_type": "code",
      "source": [
        "import os\n",
        "import time\n",
        "\n",
        "from pathlib import Path\n",
        "\n",
        "import numpy as np\n",
        "import pandas as pd\n",
        "\n",
        "from sklearn.model_selection import train_test_split\n",
        "import matplotlib.pyplot as plt\n",
        "\n",
        "import cv2\n",
        "\n",
        "import torch\n",
        "from torch import nn, optim\n",
        "from torchvision import transforms\n",
        "from PIL import Image\n",
        "import torch.nn.functional as F"
      ],
      "metadata": {
        "id": "-luMHTORbZ5E"
      },
      "execution_count": null,
      "outputs": []
    },
    {
      "cell_type": "code",
      "source": [
        "DATASET_FILEPATH = Path('/kaggle/input/leapgestrecog/leapGestRecog/')\n",
        "IMG_SIZE = 256\n",
        "RANDOM_STATE = 42"
      ],
      "metadata": {
        "id": "uurgiRZUblbM"
      },
      "execution_count": null,
      "outputs": []
    },
    {
      "cell_type": "markdown",
      "source": [
        "Подготовка датасета"
      ],
      "metadata": {
        "id": "AZV1u9_xbmrE"
      }
    },
    {
      "cell_type": "code",
      "source": [
        "import re\n",
        "\n",
        "def gest_label_encoding(gest):\n",
        "    code = re.findall('^\\d*', gest)[0]\n",
        "    return int(code)-1\n",
        "\n",
        "def make_df_from_files(parent_dir_path=DATASET_FILEPATH):\n",
        "    result = list()\n",
        "    for person in os.listdir(parent_dir_path):\n",
        "        person_path = parent_dir_path.joinpath(person)\n",
        "        for gest in os.listdir(person_path):\n",
        "            gest_path = person_path.joinpath(gest)\n",
        "            for img in os.listdir(gest_path):\n",
        "                result.append([img, gest_path.joinpath(img), gest_label_encoding(gest), person])\n",
        "\n",
        "    return result"
      ],
      "metadata": {
        "id": "PMmu3Q3LbqwF"
      },
      "execution_count": null,
      "outputs": []
    },
    {
      "cell_type": "code",
      "source": [
        "gest_df = pd.DataFrame(make_df_from_files(), columns=('img', 'path', 'gest', 'person'))\n",
        "gest_df.sample(5)"
      ],
      "metadata": {
        "id": "DGpfnQoGb4So"
      },
      "execution_count": null,
      "outputs": []
    },
    {
      "cell_type": "code",
      "source": [
        "gest_df['gest'].unique()"
      ],
      "metadata": {
        "id": "jgEz3YPFb9S0"
      },
      "execution_count": null,
      "outputs": []
    },
    {
      "cell_type": "code",
      "source": [
        "class LeapGests(torch.utils.data.Dataset):\n",
        "    def __init__(self, data, preprocessing=None):\n",
        "        self.data = data\n",
        "        self.preprocessing = preprocessing\n",
        "\n",
        "        self.image_paths = self.data.iloc[:, 1]\n",
        "        self.image_gest = self.data.iloc[:, 2]\n",
        "        self.data_len = len(self.data.index)\n",
        "\n",
        "    def __len__(self):\n",
        "        return self.data_len\n",
        "\n",
        "    def __getitem__(self, idx):\n",
        "        img_path = self.image_paths[idx]\n",
        "        img = Image.open(img_path)\n",
        "\n",
        "        if self.preprocessing is not None:\n",
        "            img = self.preprocessing(img)\n",
        "\n",
        "        gest = self.image_gest[idx]\n",
        "\n",
        "        return img, gest"
      ],
      "metadata": {
        "id": "prh65MLgcG3D"
      },
      "execution_count": null,
      "outputs": []
    },
    {
      "cell_type": "code",
      "source": [
        "train_tfms = transforms.Compose([transforms.Grayscale(num_output_channels=3),\n",
        "                                    transforms.Resize([IMG_SIZE, IMG_SIZE]),\n",
        "                                    transforms.RandomHorizontalFlip(),\n",
        "                                    transforms.RandomRotation(30),\n",
        "                                    transforms.ToTensor()])\n",
        "\n",
        "valid_tfms = transforms.Compose([transforms.Grayscale(num_output_channels=3), transforms.ToTensor()])"
      ],
      "metadata": {
        "id": "evWEvc0xcNlv"
      },
      "execution_count": null,
      "outputs": []
    },
    {
      "cell_type": "code",
      "source": [
        "batch_size = 64\n",
        "\n",
        "train_dataset = LeapGests(gest_df, train_tfms)\n",
        "valid_dataset = LeapGests(gest_df, valid_tfms)\n",
        "\n",
        "train_loader = torch.utils.data.DataLoader(train_dataset,\n",
        "                          batch_size=batch_size,\n",
        "                          shuffle=True,\n",
        "                          num_workers=2)\n",
        "valid_loader = torch.utils.data.DataLoader(valid_dataset,\n",
        "                          batch_size=batch_size,\n",
        "                          shuffle=False,\n",
        "                          num_workers=1)"
      ],
      "metadata": {
        "id": "fHzc96N9cTFE"
      },
      "execution_count": null,
      "outputs": []
    },
    {
      "cell_type": "code",
      "source": [
        "for img, lbl in train_loader:\n",
        "    print(img.shape)\n",
        "    print(lbl[0])\n",
        "    plt.imshow(img[0].permute(1, 2, 0)[:,:,0], cmap='gray')\n",
        "    break"
      ],
      "metadata": {
        "id": "22QwDfdrcY4R"
      },
      "execution_count": null,
      "outputs": []
    },
    {
      "cell_type": "code",
      "source": [
        "device = 'cuda' if torch.cuda.is_available() else 'cpu'\n",
        "device"
      ],
      "metadata": {
        "id": "PL87u4ebcaaE"
      },
      "execution_count": null,
      "outputs": []
    },
    {
      "cell_type": "code",
      "source": [
        "!pip install torchsummary"
      ],
      "metadata": {
        "id": "Gkv13wIOctqg"
      },
      "execution_count": null,
      "outputs": []
    },
    {
      "cell_type": "code",
      "source": [
        "from torchsummary import summary\n",
        "from torchvision import models"
      ],
      "metadata": {
        "id": "kjVpboSYcyRk"
      },
      "execution_count": null,
      "outputs": []
    },
    {
      "cell_type": "code",
      "source": [
        "resnet50 = models.resnet50(pretrained=True)"
      ],
      "metadata": {
        "id": "G75X6I3Cc7Xy"
      },
      "execution_count": null,
      "outputs": []
    },
    {
      "cell_type": "code",
      "source": [
        "for param in list(resnet50.parameters())[:]:\n",
        "  param.requires_grad = False"
      ],
      "metadata": {
        "id": "FljMp8KBc8nY"
      },
      "execution_count": null,
      "outputs": []
    },
    {
      "cell_type": "code",
      "source": [
        "resnet50.fc = nn.Linear(2048, 10)"
      ],
      "metadata": {
        "id": "fkvUcgZedDlF"
      },
      "execution_count": null,
      "outputs": []
    },
    {
      "cell_type": "code",
      "source": [
        "summary(resnet50.to(device), input_size=(3, 32, 32))"
      ],
      "metadata": {
        "id": "2JdgZjNldI8G"
      },
      "execution_count": null,
      "outputs": []
    },
    {
      "cell_type": "code",
      "source": [
        "resnet50 = resnet50.to(device)"
      ],
      "metadata": {
        "id": "Ekt6Vo3-dLjh"
      },
      "execution_count": null,
      "outputs": []
    },
    {
      "cell_type": "code",
      "source": [
        "params_to_update = []\n",
        "for name,param in resnet50.named_parameters():\n",
        "    if param.requires_grad == True:\n",
        "        params_to_update.append(param)\n",
        "\n",
        "optimizer = torch.optim.Adam(params_to_update, lr=0.01)\n",
        "criterion = nn.CrossEntropyLoss()"
      ],
      "metadata": {
        "id": "Q84oLaoKdRZn"
      },
      "execution_count": null,
      "outputs": []
    },
    {
      "cell_type": "code",
      "source": [
        "epochs = 10\n",
        "epoch_losses = []\n",
        "\n",
        "for epoch in range(epochs):\n",
        "\n",
        "    running_loss = 0.0\n",
        "    epoch_loss = []\n",
        "    for batch_idx, (data, labels) in enumerate(train_loader):\n",
        "        data = data.to(device)\n",
        "        labels = labels.to(device)\n",
        "\n",
        "        optimizer.zero_grad()\n",
        "\n",
        "        outputs = resnet50(data)\n",
        "        loss = F.cross_entropy(outputs, labels)\n",
        "        loss.backward()\n",
        "        optimizer.step()\n",
        "\n",
        "        running_loss += loss.item()\n",
        "        epoch_loss.append(loss.item())\n",
        "\n",
        "    test_running_loss = 0\n",
        "    test_epoch_loss = []\n",
        "    for batch_idx, (data, labels) in enumerate(valid_loader):\n",
        "        resnet50.eval()\n",
        "        data = data.to(device)\n",
        "        labels = labels.to(device)\n",
        "\n",
        "        outputs = resnet50(data)\n",
        "        loss = F.cross_entropy(outputs, labels)\n",
        "\n",
        "        test_running_loss += loss.item()\n",
        "        test_epoch_loss.append(loss.item())\n",
        "\n",
        "\n",
        "    print(f'Epoch {epoch+1}, loss: ', np.mean(epoch_loss), 'test loss:', np.mean(test_epoch_loss))\n",
        "    epoch_losses.append(epoch_loss)"
      ],
      "metadata": {
        "id": "MEWZ9o4XdZmr"
      },
      "execution_count": null,
      "outputs": []
    },
    {
      "cell_type": "code",
      "source": [
        "torch.save(resnet50, './gest_detection_model.pth')"
      ],
      "metadata": {
        "id": "A-8a-_Fbdb-x"
      },
      "execution_count": null,
      "outputs": []
    },
    {
      "cell_type": "code",
      "source": [
        "with torch.no_grad():\n",
        "    for i, data in enumerate(valid_loader, 3):\n",
        "        images, labels = data[0].to(device), data[1].to(device)\n",
        "\n",
        "        outputs = resnet50(images)\n",
        "        plt.title(f'pred - {outputs[0].argmax()}, gt - {labels[0]}')\n",
        "        plt.imshow(images[0].cpu().permute(1, 2, 0), cmap='gray')\n",
        "        plt.show()\n",
        "        if i>15:\n",
        "            break"
      ],
      "metadata": {
        "id": "m0nNazgidgWV"
      },
      "execution_count": null,
      "outputs": []
    }
  ]
}